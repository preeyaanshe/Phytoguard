{
 "cells": [
  {
   "cell_type": "markdown",
   "id": "e7d5550c-3427-4223-a56c-d239765654fc",
   "metadata": {},
   "source": [
    "## Importing Libraries"
   ]
  },
  {
   "cell_type": "markdown",
   "id": "a3d46431-f25e-4bdf-a51a-309b73b23635",
   "metadata": {},
   "source": [
    " <!-- *************************Importing Libraries************************* -->"
   ]
  },
  {
   "cell_type": "code",
   "execution_count": 1,
   "id": "645bbea5-efa0-4e14-be73-a8e85a839700",
   "metadata": {},
   "outputs": [
    {
     "name": "stderr",
     "output_type": "stream",
     "text": [
      "C:\\ProgramData\\Anaconda3\\lib\\site-packages\\scipy\\__init__.py:155: UserWarning: A NumPy version >=1.18.5 and <1.25.0 is required for this version of SciPy (detected version 1.26.4\n",
      "  warnings.warn(f\"A NumPy version >={np_minversion} and <{np_maxversion}\"\n"
     ]
    },
    {
     "name": "stdout",
     "output_type": "stream",
     "text": [
      "WARNING:tensorflow:From C:\\Users\\Himanshi\\AppData\\Roaming\\Python\\Python39\\site-packages\\keras\\src\\losses.py:2976: The name tf.losses.sparse_softmax_cross_entropy is deprecated. Please use tf.compat.v1.losses.sparse_softmax_cross_entropy instead.\n",
      "\n"
     ]
    }
   ],
   "source": [
    "import tensorflow as tf\n",
    "import pandas as pd\n",
    "import matplotlib.pyplot as plt #for visualisation\n",
    "import seaborn as sns"
   ]
  },
  {
   "cell_type": "markdown",
   "id": "8eafcb6f-7938-488d-bcab-31118e74342a",
   "metadata": {},
   "source": [
    "## Image Preprocessing"
   ]
  },
  {
   "cell_type": "markdown",
   "id": "08daaa84-3c57-4251-b99f-bfc524891b25",
   "metadata": {},
   "source": [
    "Training image preprocessing"
   ]
  },
  {
   "cell_type": "code",
   "execution_count": 2,
   "id": "3e47ffc0-a2e3-46f6-b4b1-f5eca047f18b",
   "metadata": {},
   "outputs": [
    {
     "name": "stdout",
     "output_type": "stream",
     "text": [
      "Found 43444 files belonging to 38 classes.\n"
     ]
    }
   ],
   "source": [
    "#from keras documnetation\n",
    "training_set = tf.keras.utils.image_dataset_from_directory(\n",
    "    'train',\n",
    "    labels = \"inferred\", #directory name are considered labels\n",
    "    label_mode = \"categorical\", #int is default, instead use categorial vector, as we are not solving 2 class problem, we have multiple classes\n",
    "    class_names = None, #as already we are using labels from the directory\n",
    "    color_mode = 'rgb',\n",
    "    batch_size = 32, #if want to speed up , take 64 or more, at a time we are feeding \n",
    "    image_size = (128, 128), \n",
    "    shuffle = True, #at the time of feeding to the model, we will shuffle the dataset so as to reduce biased-ness\n",
    "    seed = None,\n",
    "    validation_split = None,\n",
    "    subset = None,\n",
    "    interpolation = \"bilinear\", \n",
    "    follow_links = False,\n",
    "    crop_to_aspect_ratio = False,\n",
    ")"
   ]
  },
  {
   "cell_type": "markdown",
   "id": "5b4973db-366a-47e6-8fa7-879f49936d08",
   "metadata": {},
   "source": [
    "Validation image preprocessing"
   ]
  },
  {
   "cell_type": "code",
   "execution_count": 3,
   "id": "eb3b7439-9608-4cf8-94ba-123505697eb8",
   "metadata": {},
   "outputs": [
    {
     "name": "stdout",
     "output_type": "stream",
     "text": [
      "Found 10861 files belonging to 38 classes.\n"
     ]
    }
   ],
   "source": [
    "validation_set = tf.keras.utils.image_dataset_from_directory(\n",
    "    'valid',\n",
    "    labels = \"inferred\",\n",
    "    label_mode = \"categorical\",\n",
    "    class_names = None,\n",
    "    color_mode = 'rgb',\n",
    "    batch_size = 32,\n",
    "    image_size = (128, 128), \n",
    "    shuffle = True,\n",
    "    seed = None,\n",
    "    validation_split = None,\n",
    "    subset = None,\n",
    "    interpolation = \"bilinear\", \n",
    "    follow_links = False,\n",
    "    crop_to_aspect_ratio = False,\n",
    ")"
   ]
  },
  {
   "cell_type": "code",
   "execution_count": 4,
   "id": "f748be14-9ef8-49fc-b2c5-fbb500a1d0de",
   "metadata": {},
   "outputs": [
    {
     "name": "stdout",
     "output_type": "stream",
     "text": [
      "<_PrefetchDataset element_spec=(TensorSpec(shape=(None, 128, 128, 3), dtype=tf.float32, name=None), TensorSpec(shape=(None, 38), dtype=tf.float32, name=None))>\n"
     ]
    }
   ],
   "source": [
    "print(training_set) #summary of the training set"
   ]
  },
  {
   "cell_type": "code",
   "execution_count": 5,
   "id": "35c9ba41-aa4d-42b0-b657-80764fcb0c1d",
   "metadata": {},
   "outputs": [
    {
     "name": "stdout",
     "output_type": "stream",
     "text": [
      "tf.Tensor(\n",
      "[[[[158.75 153.75 149.75]\n",
      "   [156.25 151.25 147.25]\n",
      "   [167.25 162.25 158.25]\n",
      "   ...\n",
      "   [194.75 192.75 193.75]\n",
      "   [203.   201.   202.  ]\n",
      "   [201.5  199.5  200.5 ]]\n",
      "\n",
      "  [[153.5  148.5  144.5 ]\n",
      "   [158.5  153.5  149.5 ]\n",
      "   [168.75 163.75 159.75]\n",
      "   ...\n",
      "   [197.75 195.75 196.75]\n",
      "   [203.25 201.25 202.25]\n",
      "   [203.25 201.25 202.25]]\n",
      "\n",
      "  [[158.5  153.5  149.5 ]\n",
      "   [163.   158.   154.  ]\n",
      "   [164.   159.   155.  ]\n",
      "   ...\n",
      "   [199.5  197.5  198.5 ]\n",
      "   [202.5  200.5  201.5 ]\n",
      "   [215.25 213.25 214.25]]\n",
      "\n",
      "  ...\n",
      "\n",
      "  [[131.25 123.25 121.25]\n",
      "   [129.5  121.5  119.5 ]\n",
      "   [151.   143.   141.  ]\n",
      "   ...\n",
      "   [179.5  175.5  176.5 ]\n",
      "   [162.5  158.5  159.5 ]\n",
      "   [176.25 172.25 173.25]]\n",
      "\n",
      "  [[148.5  140.5  138.5 ]\n",
      "   [145.75 137.75 135.75]\n",
      "   [133.25 125.25 123.25]\n",
      "   ...\n",
      "   [168.5  164.5  165.5 ]\n",
      "   [181.5  177.5  178.5 ]\n",
      "   [176.25 172.25 173.25]]\n",
      "\n",
      "  [[139.75 131.75 129.75]\n",
      "   [147.5  139.5  137.5 ]\n",
      "   [129.5  121.5  119.5 ]\n",
      "   ...\n",
      "   [161.5  157.5  158.5 ]\n",
      "   [163.5  159.5  160.5 ]\n",
      "   [173.75 169.75 170.75]]]\n",
      "\n",
      "\n",
      " [[[166.25 148.25 144.25]\n",
      "   [139.5  121.5  117.5 ]\n",
      "   [156.25 138.25 134.25]\n",
      "   ...\n",
      "   [132.   113.   106.  ]\n",
      "   [137.   118.   111.  ]\n",
      "   [131.25 112.25 105.25]]\n",
      "\n",
      "  [[166.5  148.5  144.5 ]\n",
      "   [143.   125.   121.  ]\n",
      "   [158.25 140.25 136.25]\n",
      "   ...\n",
      "   [127.25 108.25 101.25]\n",
      "   [138.25 119.25 112.25]\n",
      "   [134.   115.   108.  ]]\n",
      "\n",
      "  [[137.   119.   115.  ]\n",
      "   [181.   163.   159.  ]\n",
      "   [178.   160.   156.  ]\n",
      "   ...\n",
      "   [143.   124.   117.  ]\n",
      "   [132.25 113.25 106.25]\n",
      "   [147.75 128.75 121.75]]\n",
      "\n",
      "  ...\n",
      "\n",
      "  [[161.75 148.75 142.75]\n",
      "   [160.25 147.25 141.25]\n",
      "   [165.   152.   146.  ]\n",
      "   ...\n",
      "   [133.75 115.75 105.75]\n",
      "   [148.   130.   120.  ]\n",
      "   [129.   111.   101.  ]]\n",
      "\n",
      "  [[162.   149.   143.  ]\n",
      "   [174.25 161.25 155.25]\n",
      "   [158.5  145.5  139.5 ]\n",
      "   ...\n",
      "   [136.25 118.25 108.25]\n",
      "   [116.75  98.75  88.75]\n",
      "   [118.25 100.25  90.25]]\n",
      "\n",
      "  [[159.75 146.75 140.75]\n",
      "   [169.5  156.5  150.5 ]\n",
      "   [155.5  142.5  136.5 ]\n",
      "   ...\n",
      "   [158.   140.   130.  ]\n",
      "   [139.   121.   111.  ]\n",
      "   [143.25 125.25 115.25]]]\n",
      "\n",
      "\n",
      " [[[132.25 125.25 132.25]\n",
      "   [138.75 131.75 138.75]\n",
      "   [138.5  131.5  138.5 ]\n",
      "   ...\n",
      "   [119.75 114.75 121.75]\n",
      "   [133.5  128.5  135.5 ]\n",
      "   [138.5  133.5  140.5 ]]\n",
      "\n",
      "  [[132.   125.   132.  ]\n",
      "   [136.   129.   136.  ]\n",
      "   [135.   128.   135.  ]\n",
      "   ...\n",
      "   [137.25 132.25 139.25]\n",
      "   [123.75 118.75 125.75]\n",
      "   [131.5  126.5  133.5 ]]\n",
      "\n",
      "  [[137.5  130.5  137.5 ]\n",
      "   [138.5  131.5  138.5 ]\n",
      "   [135.75 128.75 135.75]\n",
      "   ...\n",
      "   [132.5  127.5  134.5 ]\n",
      "   [128.5  123.5  130.5 ]\n",
      "   [122.5  117.5  124.5 ]]\n",
      "\n",
      "  ...\n",
      "\n",
      "  [[139.   134.   138.  ]\n",
      "   [139.   134.   138.  ]\n",
      "   [137.   132.   136.  ]\n",
      "   ...\n",
      "   [ 90.5   88.5   93.5 ]\n",
      "   [ 93.5   91.5   96.5 ]\n",
      "   [ 92.25  90.25  95.25]]\n",
      "\n",
      "  [[133.25 128.25 132.25]\n",
      "   [135.75 130.75 134.75]\n",
      "   [137.25 132.25 136.25]\n",
      "   ...\n",
      "   [ 85.25  83.25  88.25]\n",
      "   [ 89.    87.    92.  ]\n",
      "   [ 92.    90.    95.  ]]\n",
      "\n",
      "  [[135.25 130.25 134.25]\n",
      "   [137.   132.   136.  ]\n",
      "   [137.   132.   136.  ]\n",
      "   ...\n",
      "   [ 84.5   82.5   87.5 ]\n",
      "   [ 85.5   83.5   88.5 ]\n",
      "   [ 89.    87.    92.  ]]]\n",
      "\n",
      "\n",
      " ...\n",
      "\n",
      "\n",
      " [[[162.75 156.75 184.75]\n",
      "   [156.   150.   178.  ]\n",
      "   [151.75 145.75 173.75]\n",
      "   ...\n",
      "   [127.5  117.5  142.5 ]\n",
      "   [107.5   97.5  122.5 ]\n",
      "   [116.25 106.25 131.25]]\n",
      "\n",
      "  [[165.5  159.5  187.5 ]\n",
      "   [157.5  151.5  179.5 ]\n",
      "   [156.25 150.25 178.25]\n",
      "   ...\n",
      "   [134.25 124.25 149.25]\n",
      "   [123.5  113.5  138.5 ]\n",
      "   [126.   116.   141.  ]]\n",
      "\n",
      "  [[166.   160.   188.  ]\n",
      "   [157.25 151.25 179.25]\n",
      "   [155.25 149.25 177.25]\n",
      "   ...\n",
      "   [128.   118.   143.  ]\n",
      "   [117.   107.   132.  ]\n",
      "   [130.   120.   145.  ]]\n",
      "\n",
      "  ...\n",
      "\n",
      "  [[155.5  147.5  170.5 ]\n",
      "   [171.5  163.5  186.5 ]\n",
      "   [169.25 161.25 184.25]\n",
      "   ...\n",
      "   [117.25 107.25 131.25]\n",
      "   [115.75 105.75 129.75]\n",
      "   [116.   106.   130.  ]]\n",
      "\n",
      "  [[158.75 150.75 173.75]\n",
      "   [187.   179.   202.  ]\n",
      "   [169.25 161.25 184.25]\n",
      "   ...\n",
      "   [115.5  105.5  129.5 ]\n",
      "   [116.75 106.75 130.75]\n",
      "   [125.5  115.5  139.5 ]]\n",
      "\n",
      "  [[197.25 189.25 212.25]\n",
      "   [196.5  188.5  211.5 ]\n",
      "   [146.75 138.75 161.75]\n",
      "   ...\n",
      "   [116.75 106.75 130.75]\n",
      "   [122.25 112.25 136.25]\n",
      "   [124.5  114.5  138.5 ]]]\n",
      "\n",
      "\n",
      " [[[211.25 203.25 201.25]\n",
      "   [208.   200.   198.  ]\n",
      "   [203.75 195.75 193.75]\n",
      "   ...\n",
      "   [204.5  194.5  192.5 ]\n",
      "   [191.5  181.5  179.5 ]\n",
      "   [212.5  202.5  200.5 ]]\n",
      "\n",
      "  [[202.75 194.75 192.75]\n",
      "   [205.5  197.5  195.5 ]\n",
      "   [205.75 197.75 195.75]\n",
      "   ...\n",
      "   [203.25 193.25 191.25]\n",
      "   [180.25 170.25 168.25]\n",
      "   [187.   177.   175.  ]]\n",
      "\n",
      "  [[207.5  199.5  197.5 ]\n",
      "   [208.   200.   198.  ]\n",
      "   [205.25 197.25 195.25]\n",
      "   ...\n",
      "   [189.75 179.75 177.75]\n",
      "   [184.75 174.75 172.75]\n",
      "   [183.5  173.5  171.5 ]]\n",
      "\n",
      "  ...\n",
      "\n",
      "  [[201.75 193.75 190.75]\n",
      "   [204.25 196.25 193.25]\n",
      "   [206.25 198.25 195.25]\n",
      "   ...\n",
      "   [198.   189.   184.  ]\n",
      "   [192.75 183.75 178.75]\n",
      "   [196.25 187.25 182.25]]\n",
      "\n",
      "  [[210.5  202.5  199.5 ]\n",
      "   [201.   193.   190.  ]\n",
      "   [212.25 204.25 201.25]\n",
      "   ...\n",
      "   [181.   172.   167.  ]\n",
      "   [204.5  195.5  190.5 ]\n",
      "   [188.   179.   174.  ]]\n",
      "\n",
      "  [[205.   197.   194.  ]\n",
      "   [201.5  193.5  190.5 ]\n",
      "   [202.75 194.75 191.75]\n",
      "   ...\n",
      "   [181.75 172.75 167.75]\n",
      "   [187.5  178.5  173.5 ]\n",
      "   [188.5  179.5  174.5 ]]]\n",
      "\n",
      "\n",
      " [[[124.75 112.75 112.75]\n",
      "   [111.5   99.5   99.5 ]\n",
      "   [120.75 108.75 108.75]\n",
      "   ...\n",
      "   [133.   119.   118.  ]\n",
      "   [113.25  99.25  98.25]\n",
      "   [117.25 103.25 102.25]]\n",
      "\n",
      "  [[119.5  107.5  107.5 ]\n",
      "   [128.25 116.25 116.25]\n",
      "   [148.5  136.5  136.5 ]\n",
      "   ...\n",
      "   [113.    99.    98.  ]\n",
      "   [127.   113.   112.  ]\n",
      "   [139.5  125.5  124.5 ]]\n",
      "\n",
      "  [[125.75 113.75 113.75]\n",
      "   [125.   113.   113.  ]\n",
      "   [125.   113.   113.  ]\n",
      "   ...\n",
      "   [128.   114.   113.  ]\n",
      "   [150.25 136.25 135.25]\n",
      "   [112.75  98.75  97.75]]\n",
      "\n",
      "  ...\n",
      "\n",
      "  [[162.25 150.25 154.25]\n",
      "   [169.   157.   161.  ]\n",
      "   [164.5  152.5  156.5 ]\n",
      "   ...\n",
      "   [169.   157.   157.  ]\n",
      "   [163.75 151.75 151.75]\n",
      "   [167.   155.   155.  ]]\n",
      "\n",
      "  [[151.   139.   143.  ]\n",
      "   [158.25 146.25 150.25]\n",
      "   [161.5  149.5  153.5 ]\n",
      "   ...\n",
      "   [163.   151.   151.  ]\n",
      "   [174.25 162.25 162.25]\n",
      "   [172.5  160.5  160.5 ]]\n",
      "\n",
      "  [[156.75 144.75 148.75]\n",
      "   [157.25 145.25 149.25]\n",
      "   [163.   151.   155.  ]\n",
      "   ...\n",
      "   [167.75 155.75 155.75]\n",
      "   [169.   157.   157.  ]\n",
      "   [163.25 151.25 151.25]]]], shape=(32, 128, 128, 3), dtype=float32) (32, 128, 128, 3)\n",
      "tf.Tensor(\n",
      "[[0. 0. 0. ... 0. 0. 0.]\n",
      " [0. 0. 0. ... 1. 0. 0.]\n",
      " [0. 0. 0. ... 0. 0. 0.]\n",
      " ...\n",
      " [0. 1. 0. ... 0. 0. 0.]\n",
      " [0. 0. 0. ... 0. 0. 0.]\n",
      " [0. 0. 0. ... 1. 0. 0.]], shape=(32, 38), dtype=float32) (32, 38)\n"
     ]
    }
   ],
   "source": [
    "for x,y in training_set: \n",
    "    print(x, x.shape)\n",
    "    print(y,y.shape)\n",
    "    break #seeing for just 1st batch"
   ]
  },
  {
   "cell_type": "code",
   "execution_count": 6,
   "id": "8369517d-0581-4c54-9760-298c61b065ea",
   "metadata": {},
   "outputs": [
    {
     "name": "stdout",
     "output_type": "stream",
     "text": [
      "<_PrefetchDataset element_spec=(TensorSpec(shape=(None, 128, 128, 3), dtype=tf.float32, name=None), TensorSpec(shape=(None, 38), dtype=tf.float32, name=None))>\n"
     ]
    }
   ],
   "source": [
    "print(validation_set) #summary of the validation set"
   ]
  },
  {
   "cell_type": "markdown",
   "id": "f53de297-2788-4be7-ba53-3b49a4c6dc72",
   "metadata": {},
   "source": [
    "## Building Model"
   ]
  },
  {
   "cell_type": "code",
   "execution_count": 7,
   "id": "1d550f62-c215-47e2-af48-8b5cd1fab4ab",
   "metadata": {},
   "outputs": [],
   "source": [
    "from tensorflow.keras.layers import Dense,Conv2D, MaxPool2D, Flatten, Dropout\n",
    "from tensorflow.keras.models import Sequential"
   ]
  },
  {
   "cell_type": "code",
   "execution_count": 8,
   "id": "c03205ff-bb02-4f53-bdd9-b6e16ec8888e",
   "metadata": {},
   "outputs": [
    {
     "name": "stdout",
     "output_type": "stream",
     "text": [
      "WARNING:tensorflow:From C:\\Users\\Himanshi\\AppData\\Roaming\\Python\\Python39\\site-packages\\keras\\src\\backend.py:873: The name tf.get_default_graph is deprecated. Please use tf.compat.v1.get_default_graph instead.\n",
      "\n"
     ]
    }
   ],
   "source": [
    "model = Sequential()"
   ]
  },
  {
   "cell_type": "markdown",
   "id": "3804632a-6e7d-42a7-97d4-405acf54e013",
   "metadata": {},
   "source": [
    "## Building convolutional layer and pooling layer"
   ]
  },
  {
   "cell_type": "code",
   "execution_count": 9,
   "id": "14d47af8-9740-4b81-b834-670b0f2908f7",
   "metadata": {},
   "outputs": [
    {
     "name": "stdout",
     "output_type": "stream",
     "text": [
      "WARNING:tensorflow:From C:\\Users\\Himanshi\\AppData\\Roaming\\Python\\Python39\\site-packages\\keras\\src\\layers\\pooling\\max_pooling2d.py:161: The name tf.nn.max_pool is deprecated. Please use tf.nn.max_pool2d instead.\n",
      "\n"
     ]
    }
   ],
   "source": [
    "model.add(Conv2D(filters = 32, kernel_size = 3, padding = 'same', activation = 'relu', input_shape = [128, 128, 3]))\n",
    "model.add(Conv2D(filters = 32, kernel_size = 3, activation = 'relu'))\n",
    "model.add(MaxPool2D(pool_size = 2, strides = 2))"
   ]
  },
  {
   "cell_type": "code",
   "execution_count": 10,
   "id": "1c625c67-f0ae-41ac-ab61-ec5e1bc92cab",
   "metadata": {},
   "outputs": [],
   "source": [
    "model.add(Conv2D(filters = 64, kernel_size = 3, padding = 'same', activation = 'relu'))\n",
    "model.add(Conv2D(filters = 64, kernel_size = 3, activation = 'relu'))\n",
    "model.add(MaxPool2D(pool_size = 2, strides = 2))"
   ]
  },
  {
   "cell_type": "code",
   "execution_count": 11,
   "id": "2f01645e-5dec-42a1-9e70-5082e12cd696",
   "metadata": {},
   "outputs": [],
   "source": [
    "model.add(Conv2D(filters = 128, kernel_size = 3, padding = 'same', activation = 'relu'))\n",
    "model.add(Conv2D(filters = 128, kernel_size = 3, activation = 'relu'))\n",
    "model.add(MaxPool2D(pool_size = 2, strides = 2))"
   ]
  },
  {
   "cell_type": "code",
   "execution_count": 12,
   "id": "5b7894ae-97d8-4a6f-90b9-c168889ab985",
   "metadata": {},
   "outputs": [],
   "source": [
    "model.add(Conv2D(filters = 256, kernel_size = 3, padding = 'same', activation = 'relu'))\n",
    "model.add(Conv2D(filters = 256, kernel_size = 3, activation = 'relu'))\n",
    "model.add(MaxPool2D(pool_size = 2, strides = 2))"
   ]
  },
  {
   "cell_type": "code",
   "execution_count": 13,
   "id": "571f8c24",
   "metadata": {},
   "outputs": [],
   "source": [
    "model.add(Conv2D(filters = 512, kernel_size = 3, padding = 'same', activation = 'relu'))\n",
    "model.add(Conv2D(filters = 512, kernel_size = 3, activation = 'relu'))\n",
    "model.add(MaxPool2D(pool_size = 2, strides = 2))"
   ]
  },
  {
   "cell_type": "code",
   "execution_count": 14,
   "id": "b2388e77",
   "metadata": {},
   "outputs": [],
   "source": [
    "model.add(Dropout(0.25)) #to avoid overfitting, dropping 24% of the neurons"
   ]
  },
  {
   "cell_type": "markdown",
   "id": "25d6fe58-f357-456e-a775-cf0f6278f800",
   "metadata": {},
   "source": [
    "## Flatten the output"
   ]
  },
  {
   "cell_type": "code",
   "execution_count": 15,
   "id": "7afcd401-4449-4635-96c9-e78f8cdea44b",
   "metadata": {},
   "outputs": [],
   "source": [
    "model.add(Flatten())"
   ]
  },
  {
   "cell_type": "code",
   "execution_count": 16,
   "id": "cfc97508-9d9f-4fe0-aa7d-d29f250955ef",
   "metadata": {},
   "outputs": [],
   "source": [
    "model.add(Dense(units = 1500, activation = 'relu')) #changed from 1024 to 1500"
   ]
  },
  {
   "cell_type": "code",
   "execution_count": 17,
   "id": "e7372969-0867-4316-bd28-672e30df0bf7",
   "metadata": {},
   "outputs": [],
   "source": [
    "#output layer\n",
    "model.add(Dense(units = 38, activation = 'softmax'))"
   ]
  },
  {
   "cell_type": "code",
   "execution_count": 18,
   "id": "60e28070",
   "metadata": {},
   "outputs": [],
   "source": [
    "model.add(Dropout(0.4)) #dropping 40%of the neurons"
   ]
  },
  {
   "cell_type": "markdown",
   "id": "8429cb48-707a-4717-be1a-f928ac225a32",
   "metadata": {},
   "source": [
    "## Compiling model"
   ]
  },
  {
   "cell_type": "code",
   "execution_count": 34,
   "id": "0311ac77-6074-4c77-a424-522812c79739",
   "metadata": {},
   "outputs": [],
   "source": [
    "model.compile(optimizer = tf.keras.optimizers.Adam(learning_rate = 0.0001), loss = 'categorical_crossentropy', metrics = ['accuracy'])#decreased learning rate frmo 0.001 to 0.0001 "
   ]
  },
  {
   "cell_type": "code",
   "execution_count": 35,
   "id": "d18eea4d-4a15-42e1-8080-7fb59badf578",
   "metadata": {},
   "outputs": [
    {
     "name": "stdout",
     "output_type": "stream",
     "text": [
      "Model: \"sequential\"\n",
      "_________________________________________________________________\n",
      " Layer (type)                Output Shape              Param #   \n",
      "=================================================================\n",
      " conv2d (Conv2D)             (None, 128, 128, 32)      896       \n",
      "                                                                 \n",
      " conv2d_1 (Conv2D)           (None, 126, 126, 32)      9248      \n",
      "                                                                 \n",
      " max_pooling2d (MaxPooling2  (None, 63, 63, 32)        0         \n",
      " D)                                                              \n",
      "                                                                 \n",
      " conv2d_2 (Conv2D)           (None, 63, 63, 64)        18496     \n",
      "                                                                 \n",
      " conv2d_3 (Conv2D)           (None, 61, 61, 64)        36928     \n",
      "                                                                 \n",
      " max_pooling2d_1 (MaxPoolin  (None, 30, 30, 64)        0         \n",
      " g2D)                                                            \n",
      "                                                                 \n",
      " conv2d_4 (Conv2D)           (None, 30, 30, 128)       73856     \n",
      "                                                                 \n",
      " conv2d_5 (Conv2D)           (None, 28, 28, 128)       147584    \n",
      "                                                                 \n",
      " max_pooling2d_2 (MaxPoolin  (None, 14, 14, 128)       0         \n",
      " g2D)                                                            \n",
      "                                                                 \n",
      " conv2d_6 (Conv2D)           (None, 14, 14, 256)       295168    \n",
      "                                                                 \n",
      " conv2d_7 (Conv2D)           (None, 12, 12, 256)       590080    \n",
      "                                                                 \n",
      " max_pooling2d_3 (MaxPoolin  (None, 6, 6, 256)         0         \n",
      " g2D)                                                            \n",
      "                                                                 \n",
      " conv2d_8 (Conv2D)           (None, 6, 6, 512)         1180160   \n",
      "                                                                 \n",
      " conv2d_9 (Conv2D)           (None, 4, 4, 512)         2359808   \n",
      "                                                                 \n",
      " max_pooling2d_4 (MaxPoolin  (None, 2, 2, 512)         0         \n",
      " g2D)                                                            \n",
      "                                                                 \n",
      " dropout (Dropout)           (None, 2, 2, 512)         0         \n",
      "                                                                 \n",
      " flatten (Flatten)           (None, 2048)              0         \n",
      "                                                                 \n",
      " dense (Dense)               (None, 1500)              3073500   \n",
      "                                                                 \n",
      " dense_1 (Dense)             (None, 38)                57038     \n",
      "                                                                 \n",
      " dropout_1 (Dropout)         (None, 38)                0         \n",
      "                                                                 \n",
      "=================================================================\n",
      "Total params: 7842762 (29.92 MB)\n",
      "Trainable params: 7842762 (29.92 MB)\n",
      "Non-trainable params: 0 (0.00 Byte)\n",
      "_________________________________________________________________\n"
     ]
    }
   ],
   "source": [
    "model.summary()"
   ]
  },
  {
   "cell_type": "markdown",
   "id": "04262cb1-87e8-441c-b31b-643aefee3f3f",
   "metadata": {},
   "source": [
    "## Model Training"
   ]
  },
  {
   "cell_type": "code",
   "execution_count": 36,
   "id": "3080d770-b0b8-4812-85aa-957e97f98f40",
   "metadata": {},
   "outputs": [
    {
     "name": "stdout",
     "output_type": "stream",
     "text": [
      "Epoch 1/10\n",
      "   9/1358 [..............................] - ETA: 11:46 - loss: nan - accuracy: 0.0208"
     ]
    },
    {
     "ename": "KeyboardInterrupt",
     "evalue": "",
     "output_type": "error",
     "traceback": [
      "\u001b[1;31m---------------------------------------------------------------------------\u001b[0m",
      "\u001b[1;31mKeyboardInterrupt\u001b[0m                         Traceback (most recent call last)",
      "\u001b[1;32m~\\AppData\\Local\\Temp\\ipykernel_28040\\3586874864.py\u001b[0m in \u001b[0;36m<module>\u001b[1;34m\u001b[0m\n\u001b[1;32m----> 1\u001b[1;33m \u001b[0mtraining_history\u001b[0m \u001b[1;33m=\u001b[0m \u001b[0mmodel\u001b[0m\u001b[1;33m.\u001b[0m\u001b[0mfit\u001b[0m\u001b[1;33m(\u001b[0m\u001b[0mx\u001b[0m \u001b[1;33m=\u001b[0m \u001b[0mtraining_set\u001b[0m\u001b[1;33m,\u001b[0m \u001b[0mvalidation_data\u001b[0m \u001b[1;33m=\u001b[0m \u001b[0mvalidation_set\u001b[0m\u001b[1;33m,\u001b[0m \u001b[0mepochs\u001b[0m \u001b[1;33m=\u001b[0m \u001b[1;36m10\u001b[0m\u001b[1;33m)\u001b[0m\u001b[1;33m\u001b[0m\u001b[1;33m\u001b[0m\u001b[0m\n\u001b[0m",
      "\u001b[1;32m~\\AppData\\Roaming\\Python\\Python39\\site-packages\\keras\\src\\utils\\traceback_utils.py\u001b[0m in \u001b[0;36merror_handler\u001b[1;34m(*args, **kwargs)\u001b[0m\n\u001b[0;32m     63\u001b[0m         \u001b[0mfiltered_tb\u001b[0m \u001b[1;33m=\u001b[0m \u001b[1;32mNone\u001b[0m\u001b[1;33m\u001b[0m\u001b[1;33m\u001b[0m\u001b[0m\n\u001b[0;32m     64\u001b[0m         \u001b[1;32mtry\u001b[0m\u001b[1;33m:\u001b[0m\u001b[1;33m\u001b[0m\u001b[1;33m\u001b[0m\u001b[0m\n\u001b[1;32m---> 65\u001b[1;33m             \u001b[1;32mreturn\u001b[0m \u001b[0mfn\u001b[0m\u001b[1;33m(\u001b[0m\u001b[1;33m*\u001b[0m\u001b[0margs\u001b[0m\u001b[1;33m,\u001b[0m \u001b[1;33m**\u001b[0m\u001b[0mkwargs\u001b[0m\u001b[1;33m)\u001b[0m\u001b[1;33m\u001b[0m\u001b[1;33m\u001b[0m\u001b[0m\n\u001b[0m\u001b[0;32m     66\u001b[0m         \u001b[1;32mexcept\u001b[0m \u001b[0mException\u001b[0m \u001b[1;32mas\u001b[0m \u001b[0me\u001b[0m\u001b[1;33m:\u001b[0m\u001b[1;33m\u001b[0m\u001b[1;33m\u001b[0m\u001b[0m\n\u001b[0;32m     67\u001b[0m             \u001b[0mfiltered_tb\u001b[0m \u001b[1;33m=\u001b[0m \u001b[0m_process_traceback_frames\u001b[0m\u001b[1;33m(\u001b[0m\u001b[0me\u001b[0m\u001b[1;33m.\u001b[0m\u001b[0m__traceback__\u001b[0m\u001b[1;33m)\u001b[0m\u001b[1;33m\u001b[0m\u001b[1;33m\u001b[0m\u001b[0m\n",
      "\u001b[1;32m~\\AppData\\Roaming\\Python\\Python39\\site-packages\\keras\\src\\engine\\training.py\u001b[0m in \u001b[0;36mfit\u001b[1;34m(self, x, y, batch_size, epochs, verbose, callbacks, validation_split, validation_data, shuffle, class_weight, sample_weight, initial_epoch, steps_per_epoch, validation_steps, validation_batch_size, validation_freq, max_queue_size, workers, use_multiprocessing)\u001b[0m\n\u001b[0;32m   1805\u001b[0m                         ):\n\u001b[0;32m   1806\u001b[0m                             \u001b[0mcallbacks\u001b[0m\u001b[1;33m.\u001b[0m\u001b[0mon_train_batch_begin\u001b[0m\u001b[1;33m(\u001b[0m\u001b[0mstep\u001b[0m\u001b[1;33m)\u001b[0m\u001b[1;33m\u001b[0m\u001b[1;33m\u001b[0m\u001b[0m\n\u001b[1;32m-> 1807\u001b[1;33m                             \u001b[0mtmp_logs\u001b[0m \u001b[1;33m=\u001b[0m \u001b[0mself\u001b[0m\u001b[1;33m.\u001b[0m\u001b[0mtrain_function\u001b[0m\u001b[1;33m(\u001b[0m\u001b[0miterator\u001b[0m\u001b[1;33m)\u001b[0m\u001b[1;33m\u001b[0m\u001b[1;33m\u001b[0m\u001b[0m\n\u001b[0m\u001b[0;32m   1808\u001b[0m                             \u001b[1;32mif\u001b[0m \u001b[0mdata_handler\u001b[0m\u001b[1;33m.\u001b[0m\u001b[0mshould_sync\u001b[0m\u001b[1;33m:\u001b[0m\u001b[1;33m\u001b[0m\u001b[1;33m\u001b[0m\u001b[0m\n\u001b[0;32m   1809\u001b[0m                                 \u001b[0mcontext\u001b[0m\u001b[1;33m.\u001b[0m\u001b[0masync_wait\u001b[0m\u001b[1;33m(\u001b[0m\u001b[1;33m)\u001b[0m\u001b[1;33m\u001b[0m\u001b[1;33m\u001b[0m\u001b[0m\n",
      "\u001b[1;32m~\\AppData\\Roaming\\Python\\Python39\\site-packages\\tensorflow\\python\\util\\traceback_utils.py\u001b[0m in \u001b[0;36merror_handler\u001b[1;34m(*args, **kwargs)\u001b[0m\n\u001b[0;32m    148\u001b[0m     \u001b[0mfiltered_tb\u001b[0m \u001b[1;33m=\u001b[0m \u001b[1;32mNone\u001b[0m\u001b[1;33m\u001b[0m\u001b[1;33m\u001b[0m\u001b[0m\n\u001b[0;32m    149\u001b[0m     \u001b[1;32mtry\u001b[0m\u001b[1;33m:\u001b[0m\u001b[1;33m\u001b[0m\u001b[1;33m\u001b[0m\u001b[0m\n\u001b[1;32m--> 150\u001b[1;33m       \u001b[1;32mreturn\u001b[0m \u001b[0mfn\u001b[0m\u001b[1;33m(\u001b[0m\u001b[1;33m*\u001b[0m\u001b[0margs\u001b[0m\u001b[1;33m,\u001b[0m \u001b[1;33m**\u001b[0m\u001b[0mkwargs\u001b[0m\u001b[1;33m)\u001b[0m\u001b[1;33m\u001b[0m\u001b[1;33m\u001b[0m\u001b[0m\n\u001b[0m\u001b[0;32m    151\u001b[0m     \u001b[1;32mexcept\u001b[0m \u001b[0mException\u001b[0m \u001b[1;32mas\u001b[0m \u001b[0me\u001b[0m\u001b[1;33m:\u001b[0m\u001b[1;33m\u001b[0m\u001b[1;33m\u001b[0m\u001b[0m\n\u001b[0;32m    152\u001b[0m       \u001b[0mfiltered_tb\u001b[0m \u001b[1;33m=\u001b[0m \u001b[0m_process_traceback_frames\u001b[0m\u001b[1;33m(\u001b[0m\u001b[0me\u001b[0m\u001b[1;33m.\u001b[0m\u001b[0m__traceback__\u001b[0m\u001b[1;33m)\u001b[0m\u001b[1;33m\u001b[0m\u001b[1;33m\u001b[0m\u001b[0m\n",
      "\u001b[1;32m~\\AppData\\Roaming\\Python\\Python39\\site-packages\\tensorflow\\python\\eager\\polymorphic_function\\polymorphic_function.py\u001b[0m in \u001b[0;36m__call__\u001b[1;34m(self, *args, **kwds)\u001b[0m\n\u001b[0;32m    830\u001b[0m \u001b[1;33m\u001b[0m\u001b[0m\n\u001b[0;32m    831\u001b[0m       \u001b[1;32mwith\u001b[0m \u001b[0mOptionalXlaContext\u001b[0m\u001b[1;33m(\u001b[0m\u001b[0mself\u001b[0m\u001b[1;33m.\u001b[0m\u001b[0m_jit_compile\u001b[0m\u001b[1;33m)\u001b[0m\u001b[1;33m:\u001b[0m\u001b[1;33m\u001b[0m\u001b[1;33m\u001b[0m\u001b[0m\n\u001b[1;32m--> 832\u001b[1;33m         \u001b[0mresult\u001b[0m \u001b[1;33m=\u001b[0m \u001b[0mself\u001b[0m\u001b[1;33m.\u001b[0m\u001b[0m_call\u001b[0m\u001b[1;33m(\u001b[0m\u001b[1;33m*\u001b[0m\u001b[0margs\u001b[0m\u001b[1;33m,\u001b[0m \u001b[1;33m**\u001b[0m\u001b[0mkwds\u001b[0m\u001b[1;33m)\u001b[0m\u001b[1;33m\u001b[0m\u001b[1;33m\u001b[0m\u001b[0m\n\u001b[0m\u001b[0;32m    833\u001b[0m \u001b[1;33m\u001b[0m\u001b[0m\n\u001b[0;32m    834\u001b[0m       \u001b[0mnew_tracing_count\u001b[0m \u001b[1;33m=\u001b[0m \u001b[0mself\u001b[0m\u001b[1;33m.\u001b[0m\u001b[0mexperimental_get_tracing_count\u001b[0m\u001b[1;33m(\u001b[0m\u001b[1;33m)\u001b[0m\u001b[1;33m\u001b[0m\u001b[1;33m\u001b[0m\u001b[0m\n",
      "\u001b[1;32m~\\AppData\\Roaming\\Python\\Python39\\site-packages\\tensorflow\\python\\eager\\polymorphic_function\\polymorphic_function.py\u001b[0m in \u001b[0;36m_call\u001b[1;34m(self, *args, **kwds)\u001b[0m\n\u001b[0;32m    866\u001b[0m       \u001b[1;31m# In this case we have created variables on the first call, so we run the\u001b[0m\u001b[1;33m\u001b[0m\u001b[1;33m\u001b[0m\u001b[0m\n\u001b[0;32m    867\u001b[0m       \u001b[1;31m# defunned version which is guaranteed to never create variables.\u001b[0m\u001b[1;33m\u001b[0m\u001b[1;33m\u001b[0m\u001b[0m\n\u001b[1;32m--> 868\u001b[1;33m       return tracing_compilation.call_function(\n\u001b[0m\u001b[0;32m    869\u001b[0m           \u001b[0margs\u001b[0m\u001b[1;33m,\u001b[0m \u001b[0mkwds\u001b[0m\u001b[1;33m,\u001b[0m \u001b[0mself\u001b[0m\u001b[1;33m.\u001b[0m\u001b[0m_no_variable_creation_config\u001b[0m\u001b[1;33m\u001b[0m\u001b[1;33m\u001b[0m\u001b[0m\n\u001b[0;32m    870\u001b[0m       )\n",
      "\u001b[1;32m~\\AppData\\Roaming\\Python\\Python39\\site-packages\\tensorflow\\python\\eager\\polymorphic_function\\tracing_compilation.py\u001b[0m in \u001b[0;36mcall_function\u001b[1;34m(args, kwargs, tracing_options)\u001b[0m\n\u001b[0;32m    137\u001b[0m   \u001b[0mbound_args\u001b[0m \u001b[1;33m=\u001b[0m \u001b[0mfunction\u001b[0m\u001b[1;33m.\u001b[0m\u001b[0mfunction_type\u001b[0m\u001b[1;33m.\u001b[0m\u001b[0mbind\u001b[0m\u001b[1;33m(\u001b[0m\u001b[1;33m*\u001b[0m\u001b[0margs\u001b[0m\u001b[1;33m,\u001b[0m \u001b[1;33m**\u001b[0m\u001b[0mkwargs\u001b[0m\u001b[1;33m)\u001b[0m\u001b[1;33m\u001b[0m\u001b[1;33m\u001b[0m\u001b[0m\n\u001b[0;32m    138\u001b[0m   \u001b[0mflat_inputs\u001b[0m \u001b[1;33m=\u001b[0m \u001b[0mfunction\u001b[0m\u001b[1;33m.\u001b[0m\u001b[0mfunction_type\u001b[0m\u001b[1;33m.\u001b[0m\u001b[0munpack_inputs\u001b[0m\u001b[1;33m(\u001b[0m\u001b[0mbound_args\u001b[0m\u001b[1;33m)\u001b[0m\u001b[1;33m\u001b[0m\u001b[1;33m\u001b[0m\u001b[0m\n\u001b[1;32m--> 139\u001b[1;33m   return function._call_flat(  # pylint: disable=protected-access\n\u001b[0m\u001b[0;32m    140\u001b[0m       \u001b[0mflat_inputs\u001b[0m\u001b[1;33m,\u001b[0m \u001b[0mcaptured_inputs\u001b[0m\u001b[1;33m=\u001b[0m\u001b[0mfunction\u001b[0m\u001b[1;33m.\u001b[0m\u001b[0mcaptured_inputs\u001b[0m\u001b[1;33m\u001b[0m\u001b[1;33m\u001b[0m\u001b[0m\n\u001b[0;32m    141\u001b[0m   )\n",
      "\u001b[1;32m~\\AppData\\Roaming\\Python\\Python39\\site-packages\\tensorflow\\python\\eager\\polymorphic_function\\concrete_function.py\u001b[0m in \u001b[0;36m_call_flat\u001b[1;34m(self, tensor_inputs, captured_inputs)\u001b[0m\n\u001b[0;32m   1321\u001b[0m         and executing_eagerly):\n\u001b[0;32m   1322\u001b[0m       \u001b[1;31m# No tape is watching; skip to running the function.\u001b[0m\u001b[1;33m\u001b[0m\u001b[1;33m\u001b[0m\u001b[0m\n\u001b[1;32m-> 1323\u001b[1;33m       \u001b[1;32mreturn\u001b[0m \u001b[0mself\u001b[0m\u001b[1;33m.\u001b[0m\u001b[0m_inference_function\u001b[0m\u001b[1;33m.\u001b[0m\u001b[0mcall_preflattened\u001b[0m\u001b[1;33m(\u001b[0m\u001b[0margs\u001b[0m\u001b[1;33m)\u001b[0m\u001b[1;33m\u001b[0m\u001b[1;33m\u001b[0m\u001b[0m\n\u001b[0m\u001b[0;32m   1324\u001b[0m     forward_backward = self._select_forward_and_backward_functions(\n\u001b[0;32m   1325\u001b[0m         \u001b[0margs\u001b[0m\u001b[1;33m,\u001b[0m\u001b[1;33m\u001b[0m\u001b[1;33m\u001b[0m\u001b[0m\n",
      "\u001b[1;32m~\\AppData\\Roaming\\Python\\Python39\\site-packages\\tensorflow\\python\\eager\\polymorphic_function\\atomic_function.py\u001b[0m in \u001b[0;36mcall_preflattened\u001b[1;34m(self, args)\u001b[0m\n\u001b[0;32m    214\u001b[0m   \u001b[1;32mdef\u001b[0m \u001b[0mcall_preflattened\u001b[0m\u001b[1;33m(\u001b[0m\u001b[0mself\u001b[0m\u001b[1;33m,\u001b[0m \u001b[0margs\u001b[0m\u001b[1;33m:\u001b[0m \u001b[0mSequence\u001b[0m\u001b[1;33m[\u001b[0m\u001b[0mcore\u001b[0m\u001b[1;33m.\u001b[0m\u001b[0mTensor\u001b[0m\u001b[1;33m]\u001b[0m\u001b[1;33m)\u001b[0m \u001b[1;33m->\u001b[0m \u001b[0mAny\u001b[0m\u001b[1;33m:\u001b[0m\u001b[1;33m\u001b[0m\u001b[1;33m\u001b[0m\u001b[0m\n\u001b[0;32m    215\u001b[0m     \u001b[1;34m\"\"\"Calls with flattened tensor inputs and returns the structured output.\"\"\"\u001b[0m\u001b[1;33m\u001b[0m\u001b[1;33m\u001b[0m\u001b[0m\n\u001b[1;32m--> 216\u001b[1;33m     \u001b[0mflat_outputs\u001b[0m \u001b[1;33m=\u001b[0m \u001b[0mself\u001b[0m\u001b[1;33m.\u001b[0m\u001b[0mcall_flat\u001b[0m\u001b[1;33m(\u001b[0m\u001b[1;33m*\u001b[0m\u001b[0margs\u001b[0m\u001b[1;33m)\u001b[0m\u001b[1;33m\u001b[0m\u001b[1;33m\u001b[0m\u001b[0m\n\u001b[0m\u001b[0;32m    217\u001b[0m     \u001b[1;32mreturn\u001b[0m \u001b[0mself\u001b[0m\u001b[1;33m.\u001b[0m\u001b[0mfunction_type\u001b[0m\u001b[1;33m.\u001b[0m\u001b[0mpack_output\u001b[0m\u001b[1;33m(\u001b[0m\u001b[0mflat_outputs\u001b[0m\u001b[1;33m)\u001b[0m\u001b[1;33m\u001b[0m\u001b[1;33m\u001b[0m\u001b[0m\n\u001b[0;32m    218\u001b[0m \u001b[1;33m\u001b[0m\u001b[0m\n",
      "\u001b[1;32m~\\AppData\\Roaming\\Python\\Python39\\site-packages\\tensorflow\\python\\eager\\polymorphic_function\\atomic_function.py\u001b[0m in \u001b[0;36mcall_flat\u001b[1;34m(self, *args)\u001b[0m\n\u001b[0;32m    249\u001b[0m         \u001b[1;32mwith\u001b[0m \u001b[0mrecord\u001b[0m\u001b[1;33m.\u001b[0m\u001b[0mstop_recording\u001b[0m\u001b[1;33m(\u001b[0m\u001b[1;33m)\u001b[0m\u001b[1;33m:\u001b[0m\u001b[1;33m\u001b[0m\u001b[1;33m\u001b[0m\u001b[0m\n\u001b[0;32m    250\u001b[0m           \u001b[1;32mif\u001b[0m \u001b[0mself\u001b[0m\u001b[1;33m.\u001b[0m\u001b[0m_bound_context\u001b[0m\u001b[1;33m.\u001b[0m\u001b[0mexecuting_eagerly\u001b[0m\u001b[1;33m(\u001b[0m\u001b[1;33m)\u001b[0m\u001b[1;33m:\u001b[0m\u001b[1;33m\u001b[0m\u001b[1;33m\u001b[0m\u001b[0m\n\u001b[1;32m--> 251\u001b[1;33m             outputs = self._bound_context.call_function(\n\u001b[0m\u001b[0;32m    252\u001b[0m                 \u001b[0mself\u001b[0m\u001b[1;33m.\u001b[0m\u001b[0mname\u001b[0m\u001b[1;33m,\u001b[0m\u001b[1;33m\u001b[0m\u001b[1;33m\u001b[0m\u001b[0m\n\u001b[0;32m    253\u001b[0m                 \u001b[0mlist\u001b[0m\u001b[1;33m(\u001b[0m\u001b[0margs\u001b[0m\u001b[1;33m)\u001b[0m\u001b[1;33m,\u001b[0m\u001b[1;33m\u001b[0m\u001b[1;33m\u001b[0m\u001b[0m\n",
      "\u001b[1;32m~\\AppData\\Roaming\\Python\\Python39\\site-packages\\tensorflow\\python\\eager\\context.py\u001b[0m in \u001b[0;36mcall_function\u001b[1;34m(self, name, tensor_inputs, num_outputs)\u001b[0m\n\u001b[0;32m   1484\u001b[0m     \u001b[0mcancellation_context\u001b[0m \u001b[1;33m=\u001b[0m \u001b[0mcancellation\u001b[0m\u001b[1;33m.\u001b[0m\u001b[0mcontext\u001b[0m\u001b[1;33m(\u001b[0m\u001b[1;33m)\u001b[0m\u001b[1;33m\u001b[0m\u001b[1;33m\u001b[0m\u001b[0m\n\u001b[0;32m   1485\u001b[0m     \u001b[1;32mif\u001b[0m \u001b[0mcancellation_context\u001b[0m \u001b[1;32mis\u001b[0m \u001b[1;32mNone\u001b[0m\u001b[1;33m:\u001b[0m\u001b[1;33m\u001b[0m\u001b[1;33m\u001b[0m\u001b[0m\n\u001b[1;32m-> 1486\u001b[1;33m       outputs = execute.execute(\n\u001b[0m\u001b[0;32m   1487\u001b[0m           \u001b[0mname\u001b[0m\u001b[1;33m.\u001b[0m\u001b[0mdecode\u001b[0m\u001b[1;33m(\u001b[0m\u001b[1;34m\"utf-8\"\u001b[0m\u001b[1;33m)\u001b[0m\u001b[1;33m,\u001b[0m\u001b[1;33m\u001b[0m\u001b[1;33m\u001b[0m\u001b[0m\n\u001b[0;32m   1488\u001b[0m           \u001b[0mnum_outputs\u001b[0m\u001b[1;33m=\u001b[0m\u001b[0mnum_outputs\u001b[0m\u001b[1;33m,\u001b[0m\u001b[1;33m\u001b[0m\u001b[1;33m\u001b[0m\u001b[0m\n",
      "\u001b[1;32m~\\AppData\\Roaming\\Python\\Python39\\site-packages\\tensorflow\\python\\eager\\execute.py\u001b[0m in \u001b[0;36mquick_execute\u001b[1;34m(op_name, num_outputs, inputs, attrs, ctx, name)\u001b[0m\n\u001b[0;32m     51\u001b[0m   \u001b[1;32mtry\u001b[0m\u001b[1;33m:\u001b[0m\u001b[1;33m\u001b[0m\u001b[1;33m\u001b[0m\u001b[0m\n\u001b[0;32m     52\u001b[0m     \u001b[0mctx\u001b[0m\u001b[1;33m.\u001b[0m\u001b[0mensure_initialized\u001b[0m\u001b[1;33m(\u001b[0m\u001b[1;33m)\u001b[0m\u001b[1;33m\u001b[0m\u001b[1;33m\u001b[0m\u001b[0m\n\u001b[1;32m---> 53\u001b[1;33m     tensors = pywrap_tfe.TFE_Py_Execute(ctx._handle, device_name, op_name,\n\u001b[0m\u001b[0;32m     54\u001b[0m                                         inputs, attrs, num_outputs)\n\u001b[0;32m     55\u001b[0m   \u001b[1;32mexcept\u001b[0m \u001b[0mcore\u001b[0m\u001b[1;33m.\u001b[0m\u001b[0m_NotOkStatusException\u001b[0m \u001b[1;32mas\u001b[0m \u001b[0me\u001b[0m\u001b[1;33m:\u001b[0m\u001b[1;33m\u001b[0m\u001b[1;33m\u001b[0m\u001b[0m\n",
      "\u001b[1;31mKeyboardInterrupt\u001b[0m: "
     ]
    }
   ],
   "source": [
    "training_history = model.fit(x = training_set, validation_data = validation_set, epochs = 10)"
   ]
  },
  {
   "cell_type": "code",
   "execution_count": null,
   "id": "11676629-bc46-43f5-822a-1861912205d8",
   "metadata": {},
   "outputs": [],
   "source": []
  },
  {
   "cell_type": "markdown",
   "id": "c173fddd-e824-49f1-b634-2a20c2a31697",
   "metadata": {},
   "source": [
    "## Model evaluation"
   ]
  },
  {
   "cell_type": "code",
   "execution_count": null,
   "id": "8379b5a7-fee0-4f58-ad73-d5e63fbc9ac5",
   "metadata": {},
   "outputs": [],
   "source": [
    "#model evaluation on training set\n",
    "training_loss, training_accuracy = model.evaluate(training_set)\n"
   ]
  },
  {
   "cell_type": "code",
   "execution_count": null,
   "id": "264f5157-a454-40ed-b696-2b046b57906c",
   "metadata": {},
   "outputs": [],
   "source": [
    "print(training_loss, training_accuracy)"
   ]
  },
  {
   "cell_type": "code",
   "execution_count": null,
   "id": "65cbf1a3-ea78-47db-98ca-a5fd644f067c",
   "metadata": {},
   "outputs": [],
   "source": [
    "validation_loss, validation_accuracy = model.evaluate(validation_set)"
   ]
  },
  {
   "cell_type": "code",
   "execution_count": null,
   "id": "03ebb814-fbe3-463c-991a-648c158a7f62",
   "metadata": {},
   "outputs": [],
   "source": [
    "print(validation_loss, validation_accuracy)"
   ]
  },
  {
   "cell_type": "markdown",
   "id": "108cfbd4-d4da-4836-9f41-a05ab48925ce",
   "metadata": {},
   "source": [
    "## Saving Model"
   ]
  },
  {
   "cell_type": "code",
   "execution_count": null,
   "id": "7d488e51-2fc9-41c5-a935-819f06b9223a",
   "metadata": {},
   "outputs": [],
   "source": [
    "model.save(\"trained_model.h5\")"
   ]
  },
  {
   "cell_type": "markdown",
   "id": "5ba9b05c-1f3b-4c00-8cde-5ec6cfd2ddc3",
   "metadata": {},
   "source": [
    "## Visualising the history"
   ]
  },
  {
   "cell_type": "code",
   "execution_count": null,
   "id": "056e9ecd-0398-459d-b9fe-f5f8ee651ea0",
   "metadata": {},
   "outputs": [],
   "source": [
    "print(training_history.history)"
   ]
  },
  {
   "cell_type": "markdown",
   "id": "7dedf5c3-73d2-48cb-bc10-81765c8b611a",
   "metadata": {},
   "source": [
    "## Saving the history in json"
   ]
  },
  {
   "cell_type": "code",
   "execution_count": null,
   "id": "947bc351-d68c-4d08-9390-8255e88f5b72",
   "metadata": {},
   "outputs": [],
   "source": [
    "import json\n",
    "with open(\"training_history.json\", \"w\") as f:\n",
    "    json.dump(training_history.history, f)"
   ]
  },
  {
   "cell_type": "code",
   "execution_count": null,
   "id": "76b01645",
   "metadata": {},
   "outputs": [],
   "source": []
  }
 ],
 "metadata": {
  "kernelspec": {
   "display_name": "Python 3 (ipykernel)",
   "language": "python",
   "name": "python3"
  },
  "language_info": {
   "codemirror_mode": {
    "name": "ipython",
    "version": 3
   },
   "file_extension": ".py",
   "mimetype": "text/x-python",
   "name": "python",
   "nbconvert_exporter": "python",
   "pygments_lexer": "ipython3",
   "version": "3.9.13"
  }
 },
 "nbformat": 4,
 "nbformat_minor": 5
}
